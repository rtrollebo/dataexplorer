{
 "cells": [
  {
   "cell_type": "markdown",
   "metadata": {},
   "source": [
    "# Example: Reduce Image Objects to a Simple Geometric Shape\n",
    "\n",
    "`pyspatialfield` can be used to find image features and reduce the features to simple geometric objects, such as the ellipse. \n",
    "\n",
    "In this example, a lake in Scotland is located in a satellite image, and the lake is described with its geometric parameters. "
   ]
  },
  {
   "cell_type": "code",
   "execution_count": 1,
   "metadata": {},
   "outputs": [],
   "source": [
    "from pyspatialfield.field.featurefield import FeatureField, EllipseFeature\n",
    "from explorer_util.datasource import DataSource, DataDecoder, base64_decode\n",
    "from explorer_util.visualization import plot_image_with_annotation\n",
    "import numpy as np\n",
    "import matplotlib.pyplot as plt\n",
    "\n",
    "# Link to a base64-encoded satellite image of a lake in Scotland.\n",
    "url_source = \"https://gist.githubusercontent.com/rtrollebo/e20ec7838549a92abbeedfb4c3eac22c/raw/b588bd0263bb9221b6f1e86575ae9a3be0ee342b/sample-image-loch-ness\"\n",
    "\n",
    "# Load the image, and setup the image decoder.\n",
    "img_decoder = DataDecoder(DataSource.fetch_from_online_source(url_source))\n",
    "\n",
    "# Generate image feature map. \n",
    "img, img_map = FeatureField.generate_from_single_image(\n",
    "    img_decoder,                               # Image decoder containing the raw data of the image.\n",
    "    170,                                       # Threshold\n",
    "    decoder_callback=base64_decode,            # Attach base64 decoder as callback.\n",
    "    preprocess=lambda x: 255-x,                # Invert image, to easily threshhold-detect the dark lake.\n",
    ") \n",
    "\n",
    "# Find the feature of interest by inspection\n",
    "feature_iter = FeatureField.get_features_by_size(img_map)\n",
    "next(feature_iter)\n",
    "label_of_interest, _ = next(feature_iter) \n",
    "\n",
    "# Highlight the feature of interest, create a FeatureField, and obtain key geometric parameters. \n",
    "boolmap = FeatureField.get_feature_from_labelmap(img_map, label_of_interest)\n",
    "field = FeatureField(boolmap)\n",
    "\n",
    "# Convert the generic FeatureField to the specific geometric ellipsis shape.\n",
    "ellipsis = EllipseFeature()\n",
    "ellipsis.from_feature_field(field)\n",
    "\n",
    "                                     "
   ]
  },
  {
   "cell_type": "markdown",
   "metadata": {},
   "source": [
    "This particular lake is a long and narrow one, thus its enclosed ellipse is expected to have semi-major axis (a) much bigger than its semi-minor axis (b), or $a / b >> 1$"
   ]
  },
  {
   "cell_type": "code",
   "execution_count": 2,
   "metadata": {},
   "outputs": [
    {
     "name": "stdout",
     "output_type": "stream",
     "text": [
      "16.67085123836639\n"
     ]
    }
   ],
   "source": [
    "print(ellipsis.semi_major_axis / ellipsis.semi_minor_axis)"
   ]
  },
  {
   "cell_type": "markdown",
   "metadata": {},
   "source": [
    "We can find the angle in degrees with the vertical:"
   ]
  },
  {
   "cell_type": "code",
   "execution_count": 3,
   "metadata": {},
   "outputs": [
    {
     "name": "stdout",
     "output_type": "stream",
     "text": [
      "-35.49623427170941\n"
     ]
    }
   ],
   "source": [
    "print(field.degrees)"
   ]
  },
  {
   "cell_type": "markdown",
   "metadata": {},
   "source": [
    "To verify its location, the centroid is plotted (blue dot) on the feature. \n",
    "(run the notebook to see the image plot)"
   ]
  },
  {
   "cell_type": "code",
   "execution_count": 4,
   "metadata": {},
   "outputs": [],
   "source": [
    "plot_image_with_annotation(img, field.centroid()[1], field.centroid()[0])"
   ]
  },
  {
   "cell_type": "code",
   "execution_count": null,
   "metadata": {},
   "outputs": [],
   "source": []
  }
 ],
 "metadata": {
  "kernelspec": {
   "display_name": "Python 3 (ipykernel)",
   "language": "python",
   "name": "python3"
  },
  "language_info": {
   "codemirror_mode": {
    "name": "ipython",
    "version": 3
   },
   "file_extension": ".py",
   "mimetype": "text/x-python",
   "name": "python",
   "nbconvert_exporter": "python",
   "pygments_lexer": "ipython3",
   "version": "3.9.1"
  }
 },
 "nbformat": 4,
 "nbformat_minor": 2
}

{
 "cells": [
  {
   "cell_type": "markdown",
   "metadata": {},
   "source": [
    "# Principal components"
   ]
  },
  {
   "cell_type": "markdown",
   "metadata": {},
   "source": [
    "## Procedure\n",
    "\n",
    "Principal components can be calculated from the eigen vectors of the covariance matrix. The covariance matrix of the random variables $[X_1, X_2, ..., X_n]$, is\n",
    "$$ \\text{cov(X, X)} = \\begin{bmatrix}E[(X_1-\\mu_{X_1})(X_1-\\mu_{X_1})] & E[(X_1-\\mu_{X_1})(X_2-\\mu_{X_2})] & \\cdots & E[(X_1-\\mu_{X_1})(X_n-\\mu_{X_n})] \\\\ E[(X_2-\\mu_{X_2})(X_1-\\mu_{X_1})] & E[(X_2-\\mu_{X_2})(X_2-\\mu_{X_2})] & \\cdots & E[(X_2-\\mu_{X_2})(X_n-\\mu_{X_n})] \\\\ \\vdots \\\\ E[(X_n-\\mu_{X_n})(X_1-\\mu_{X_1})] & E[(X_n-\\mu_{X_n})(X_2-\\mu_{X_2})] & \\cdots & E[(X_1-\\mu_{X_n})(X_1-\\mu_{X_n})]\\end{bmatrix}$$\n",
    "where $\\mu_{X_n} = E(X_n)$ is the expectation value of $X_n$\n",
    "\n",
    "In this example, only a two random variable ($[X_1, X_2]$) will be used. The eigen vectors and eigen values, $\\boldsymbol{v}$ and $\\lambda$ (from $\\text{cov(X, X)}\\boldsymbol{v} = \\lambda \\boldsymbol{v}$) determines the directions and length, respectively, of the principal components.\n",
    "\n"
   ]
  },
  {
   "cell_type": "markdown",
   "metadata": {},
   "source": [
    "## Example\n",
    "\n",
    "Given 2 randomly generated variables, the center point, length and direction is calculated:"
   ]
  },
  {
   "cell_type": "code",
   "execution_count": 1,
   "metadata": {},
   "outputs": [],
   "source": [
    "import example1"
   ]
  },
  {
   "cell_type": "code",
   "execution_count": 2,
   "metadata": {},
   "outputs": [],
   "source": [
    "evaluator = example1.component.ComponentEvaluator(example1.example_array.T)"
   ]
  },
  {
   "cell_type": "code",
   "execution_count": 3,
   "metadata": {},
   "outputs": [
    {
     "data": {
      "text/plain": [
       "center: [0.5        0.39476652], length: 0.2998212460162438, direction: [ 0.96785915 -0.25149288]"
      ]
     },
     "execution_count": 3,
     "metadata": {},
     "output_type": "execute_result"
    }
   ],
   "source": [
    "next(evaluator)"
   ]
  },
  {
   "cell_type": "code",
   "execution_count": 4,
   "metadata": {},
   "outputs": [
    {
     "data": {
      "text/plain": [
       "center: [0.5        0.39476652], length: 0.1624148299989259, direction: [0.25149288 0.96785915]"
      ]
     },
     "execution_count": 4,
     "metadata": {},
     "output_type": "execute_result"
    }
   ],
   "source": [
    "next(evaluator)"
   ]
  },
  {
   "cell_type": "markdown",
   "metadata": {},
   "source": [
    "A plot of the variables along with the components:"
   ]
  },
  {
   "cell_type": "code",
   "execution_count": 5,
   "metadata": {},
   "outputs": [],
   "source": [
    "fig,axes = example1.plot_lin_eq(example1.example_array, example1.principal_components)"
   ]
  },
  {
   "cell_type": "code",
   "execution_count": null,
   "metadata": {},
   "outputs": [],
   "source": []
  }
 ],
 "metadata": {
  "kernelspec": {
   "display_name": "Python 3",
   "language": "python",
   "name": "python3"
  },
  "language_info": {
   "codemirror_mode": {
    "name": "ipython",
    "version": 3
   },
   "file_extension": ".py",
   "mimetype": "text/x-python",
   "name": "python",
   "nbconvert_exporter": "python",
   "pygments_lexer": "ipython3",
   "version": "3.5.3"
  }
 },
 "nbformat": 4,
 "nbformat_minor": 2
}

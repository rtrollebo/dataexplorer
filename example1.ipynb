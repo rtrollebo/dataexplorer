{
 "cells": [
  {
   "cell_type": "markdown",
   "metadata": {},
   "source": [
    "# Principal components"
   ]
  },
  {
   "cell_type": "markdown",
   "metadata": {},
   "source": [
    "## Procedure\n",
    "\n",
    "Principal components can be calculated from the eigen vectors of the covariance matrix. The covariance matrix of the random variables $[X_1, X_2, ..., X_n]$, is\n",
    "$$ \\text{cov(X, X)} = \\begin{bmatrix}E[(X_1-\\mu_{X_1})(X_1-\\mu_{X_1})] & E[(X_1-\\mu_{X_1})(X_2-\\mu_{X_2})] & \\cdots & E[(X_1-\\mu_{X_1})(X_n-\\mu_{X_n})] \\\\ E[(X_2-\\mu_{X_2})(X_1-\\mu_{X_1})] & E[(X_2-\\mu_{X_2})(X_2-\\mu_{X_2})] & \\cdots & E[(X_2-\\mu_{X_2})(X_n-\\mu_{X_n})] \\\\ \\vdots \\\\ E[(X_n-\\mu_{X_n})(X_1-\\mu_{X_1})] & E[(X_n-\\mu_{X_n})(X_2-\\mu_{X_2})] & \\cdots & E[(X_n-\\mu_{X_n})(X_n-\\mu_{X_n})]\\end{bmatrix}$$\n",
    "where $\\mu_{X_n} = E(X_n)$ is the expectation value of $X_n$\n",
    "\n",
    "In this example, only a two random variable ($[X_1, X_2]$) will be used. The eigen vectors and eigen values, $\\boldsymbol{v}$ and $\\lambda$ (from $\\text{cov(X, X)}\\boldsymbol{v} = \\lambda \\boldsymbol{v}$) determines the directions and length, respectively, of the principal components.\n",
    "\n"
   ]
  },
  {
   "cell_type": "markdown",
   "metadata": {},
   "source": [
    "## Example\n",
    "\n",
    "In this example, 2 random variable are generated (`array`), each with sample size 100. A center point, length and direction is calculated, based on this dataset. \n",
    "\n",
    "The `evaluator` is a iterator that calculates all available components. "
   ]
  },
  {
   "cell_type": "code",
   "execution_count": 1,
   "metadata": {},
   "outputs": [],
   "source": [
    "import numpy as np\n",
    "from matplotlib import pyplot as pl\n",
    "from explorer_util.visualization import plot_lin_eq\n",
    "from pycomponents import component\n",
    "\n",
    "NUMBER_OF_SAMPLES = 100\n",
    "PROPORTIONALITY_CONSTANT = 3\n",
    "xvalues = np.linspace(0, 1, NUMBER_OF_SAMPLES)\n",
    "yvalues = [np.random.normal(0.5, 0.15, 1)[0] - 0.25 * x for x in xvalues]\n",
    "example_array = np.array([xvalues, yvalues])\n",
    "array = example_array.T\n",
    "evaluator = component.ComponentEvaluator(array)\n",
    "component_1 = next(evaluator)\n",
    "component_2 = next(evaluator)"
   ]
  },
  {
   "cell_type": "markdown",
   "metadata": {},
   "source": [
    "The parameters for the 2 resulting components are: "
   ]
  },
  {
   "cell_type": "code",
   "execution_count": 2,
   "metadata": {},
   "outputs": [
    {
     "data": {
      "text/plain": [
       "center: [0.5        0.37114677], length: 0.29700594591632473, direction: [ 0.98221659 -0.18775134]"
      ]
     },
     "execution_count": 2,
     "metadata": {},
     "output_type": "execute_result"
    }
   ],
   "source": [
    "component_1"
   ]
  },
  {
   "cell_type": "code",
   "execution_count": 3,
   "metadata": {},
   "outputs": [
    {
     "data": {
      "text/plain": [
       "center: [0.5        0.37114677], length: 0.1480452463605685, direction: [0.18775134 0.98221659]"
      ]
     },
     "execution_count": 3,
     "metadata": {},
     "output_type": "execute_result"
    }
   ],
   "source": [
    "component_2"
   ]
  },
  {
   "cell_type": "markdown",
   "metadata": {},
   "source": [
    "A plot of the variables along with the components:"
   ]
  },
  {
   "cell_type": "code",
   "execution_count": 4,
   "metadata": {},
   "outputs": [],
   "source": [
    "component_1.length = component_1.length * PROPORTIONALITY_CONSTANT\n",
    "component_2.length = component_2.length * PROPORTIONALITY_CONSTANT\n",
    "fig,axes = plot_lin_eq(array.T, [component_1, component_2])"
   ]
  },
  {
   "cell_type": "code",
   "execution_count": null,
   "metadata": {},
   "outputs": [],
   "source": []
  }
 ],
 "metadata": {
  "kernelspec": {
   "display_name": "Python 3",
   "language": "python",
   "name": "python3"
  },
  "language_info": {
   "codemirror_mode": {
    "name": "ipython",
    "version": 3
   },
   "file_extension": ".py",
   "mimetype": "text/x-python",
   "name": "python",
   "nbconvert_exporter": "python",
   "pygments_lexer": "ipython3",
   "version": "3.5.3"
  }
 },
 "nbformat": 4,
 "nbformat_minor": 2
}
